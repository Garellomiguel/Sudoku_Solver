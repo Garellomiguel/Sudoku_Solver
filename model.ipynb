{
 "cells": [
  {
   "cell_type": "code",
   "execution_count": 4,
   "metadata": {},
   "outputs": [],
   "source": [
    "from tensorflow.keras.models import Sequential\n",
    "from tensorflow.keras.layers import Convolution2D, Dense, MaxPooling2D, Flatten, Dropout\n",
    "from tensorflow.keras.datasets import mnist"
   ]
  },
  {
   "cell_type": "code",
   "execution_count": 5,
   "metadata": {},
   "outputs": [
    {
     "name": "stdout",
     "output_type": "stream",
     "text": [
      "Downloading data from https://storage.googleapis.com/tensorflow/tf-keras-datasets/mnist.npz\n",
      "11493376/11490434 [==============================] - 1s 0us/step\n"
     ]
    }
   ],
   "source": [
    "((trainData, trainLabels), (testData, testLabels)) = mnist.load_data()"
   ]
  },
  {
   "cell_type": "code",
   "execution_count": null,
   "metadata": {},
   "outputs": [],
   "source": [
    "clasificador = Sequential()\n",
    "\n",
    "clasfificador.add(Convolution2D(64,(3,3), input_shape=(28,28,1), activation='relu'))\n",
    "clasificador.add(MaxPooling2D())\n",
    "\n",
    "clasfificador.add(Convolution2D(64,(3,3), input_shape=(28,28,1), activation='relu'))\n",
    "clasificador.add(MaxPooling2D())\n",
    "\n",
    "clasificador.add(Dense(128, activation='relu'))\n",
    "clasificador.add(Dropout(0.2))\n",
    "clasificador.add(Dense(64, activation= 'relu'))\n",
    "clasificador.add(Dropout(0.2))\n",
    "clasificador.add(Dense(10, activation= 'softmax'))\n",
    "\n",
    "clasificador.compile(optimizer = 'adam', loss='categorical_crossentropy', metrics= =['accuracy'])\n",
    "\n"
   ]
  }
 ],
 "metadata": {
  "kernelspec": {
   "display_name": "Python [conda env:tensorflow_env] *",
   "language": "python",
   "name": "conda-env-tensorflow_env-py"
  },
  "language_info": {
   "codemirror_mode": {
    "name": "ipython",
    "version": 3
   },
   "file_extension": ".py",
   "mimetype": "text/x-python",
   "name": "python",
   "nbconvert_exporter": "python",
   "pygments_lexer": "ipython3",
   "version": "3.6.12"
  },
  "varInspector": {
   "cols": {
    "lenName": 16,
    "lenType": 16,
    "lenVar": 40
   },
   "kernels_config": {
    "python": {
     "delete_cmd_postfix": "",
     "delete_cmd_prefix": "del ",
     "library": "var_list.py",
     "varRefreshCmd": "print(var_dic_list())"
    },
    "r": {
     "delete_cmd_postfix": ") ",
     "delete_cmd_prefix": "rm(",
     "library": "var_list.r",
     "varRefreshCmd": "cat(var_dic_list()) "
    }
   },
   "types_to_exclude": [
    "module",
    "function",
    "builtin_function_or_method",
    "instance",
    "_Feature"
   ],
   "window_display": false
  }
 },
 "nbformat": 4,
 "nbformat_minor": 4
}
